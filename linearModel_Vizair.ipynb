{
 "cells": [
  {
   "cell_type": "code",
   "execution_count": 1,
   "metadata": {},
   "outputs": [],
   "source": [
    "import pandas as pd\n",
    "import numpy as np\n",
    "import gmaps as gm\n",
    "import datetime \n",
    "from sklearn import linear_model\n",
    "from matplotlib import pyplot as plt"
   ]
  },
  {
   "cell_type": "code",
   "execution_count": 2,
   "metadata": {},
   "outputs": [],
   "source": [
    "df = pd.read_csv(\"C:/Users/melis/Downloads/res.csv\", sep=\",\") #Leer el archivo\n",
    "df[\"attributes.date_debut\"] = [datetime.datetime.fromtimestamp(i /1000) for i in df[\"attributes.date_debut\"]]\n",
    "df[\"attributes.date_fin\"] = [datetime.datetime.fromtimestamp(i /1000) for i in df[\"attributes.date_fin\"]]"
   ]
  },
  {
   "cell_type": "code",
   "execution_count": 3,
   "metadata": {},
   "outputs": [
    {
     "name": "stdout",
     "output_type": "stream",
     "text": [
      "Year: 2020\n",
      "Month: 12\n",
      "Day: 01\n",
      "Hour: 16\n"
     ]
    }
   ],
   "source": [
    "year = int(input(\"Year: \"))\n",
    "month = int(input(\"Month: \"))\n",
    "day = int(input(\"Day: \"))\n",
    "hour = int(input (\"Hour: \"))\n",
    "date = datetime.datetime(year,month,day,hour)"
   ]
  },
  {
   "cell_type": "code",
   "execution_count": 4,
   "metadata": {},
   "outputs": [],
   "source": [
    "df=df.loc[df['attributes.valeur']>=0] #Only positive values\n",
    "df.reset_index(drop=True, inplace=True) #Reset index after removing the outliers"
   ]
  },
  {
   "cell_type": "code",
   "execution_count": 5,
   "metadata": {},
   "outputs": [],
   "source": [
    "X = df.iloc[df.loc[(df[\"attributes.nom_poll\"] == \"PM10\") & (df[\"attributes.date_debut\"] == date)].index,[9,8]] #Matriz de x,y\n",
    "X = np.array([ [X.iloc[i,0],X.iloc[i,1]] for i in range (len(X))] )\n",
    "weights = df.iloc[df.loc[(df[\"attributes.nom_poll\"] == \"PM10\") & (df[\"attributes.date_debut\"] == date)].index,7]\n",
    "Y = np.array(weights)"
   ]
  },
  {
   "cell_type": "code",
   "execution_count": 6,
   "metadata": {},
   "outputs": [],
   "source": [
    "reg = linear_model.LinearRegression().fit(X,Y)"
   ]
  },
  {
   "cell_type": "code",
   "execution_count": 8,
   "metadata": {},
   "outputs": [
    {
     "data": {
      "text/plain": [
       "0.009903172203372779"
      ]
     },
     "execution_count": 8,
     "metadata": {},
     "output_type": "execute_result"
    }
   ],
   "source": [
    "reg.score(X,Y)"
   ]
  },
  {
   "cell_type": "code",
   "execution_count": 9,
   "metadata": {},
   "outputs": [
    {
     "data": {
      "text/html": [
       "<div>\n",
       "<style scoped>\n",
       "    .dataframe tbody tr th:only-of-type {\n",
       "        vertical-align: middle;\n",
       "    }\n",
       "\n",
       "    .dataframe tbody tr th {\n",
       "        vertical-align: top;\n",
       "    }\n",
       "\n",
       "    .dataframe thead th {\n",
       "        text-align: right;\n",
       "    }\n",
       "</style>\n",
       "<table border=\"1\" class=\"dataframe\">\n",
       "  <thead>\n",
       "    <tr style=\"text-align: right;\">\n",
       "      <th></th>\n",
       "      <th>X1</th>\n",
       "      <th>X2</th>\n",
       "      <th>Y</th>\n",
       "    </tr>\n",
       "  </thead>\n",
       "  <tbody>\n",
       "    <tr>\n",
       "      <th>0</th>\n",
       "      <td>44.012900</td>\n",
       "      <td>1.375310</td>\n",
       "      <td>14.0</td>\n",
       "    </tr>\n",
       "    <tr>\n",
       "      <th>1</th>\n",
       "      <td>43.623600</td>\n",
       "      <td>1.438610</td>\n",
       "      <td>13.4</td>\n",
       "    </tr>\n",
       "    <tr>\n",
       "      <th>2</th>\n",
       "      <td>43.587300</td>\n",
       "      <td>1.444030</td>\n",
       "      <td>13.3</td>\n",
       "    </tr>\n",
       "    <tr>\n",
       "      <th>3</th>\n",
       "      <td>43.230300</td>\n",
       "      <td>0.062222</td>\n",
       "      <td>17.3</td>\n",
       "    </tr>\n",
       "    <tr>\n",
       "      <th>4</th>\n",
       "      <td>43.575700</td>\n",
       "      <td>1.418070</td>\n",
       "      <td>12.8</td>\n",
       "    </tr>\n",
       "    <tr>\n",
       "      <th>5</th>\n",
       "      <td>44.357000</td>\n",
       "      <td>2.570700</td>\n",
       "      <td>10.8</td>\n",
       "    </tr>\n",
       "    <tr>\n",
       "      <th>6</th>\n",
       "      <td>43.928100</td>\n",
       "      <td>2.146110</td>\n",
       "      <td>13.2</td>\n",
       "    </tr>\n",
       "    <tr>\n",
       "      <th>7</th>\n",
       "      <td>43.465600</td>\n",
       "      <td>1.329470</td>\n",
       "      <td>24.9</td>\n",
       "    </tr>\n",
       "    <tr>\n",
       "      <th>8</th>\n",
       "      <td>43.643100</td>\n",
       "      <td>1.467650</td>\n",
       "      <td>15.3</td>\n",
       "    </tr>\n",
       "    <tr>\n",
       "      <th>9</th>\n",
       "      <td>43.630300</td>\n",
       "      <td>0.179722</td>\n",
       "      <td>13.2</td>\n",
       "    </tr>\n",
       "    <tr>\n",
       "      <th>10</th>\n",
       "      <td>43.610300</td>\n",
       "      <td>1.415180</td>\n",
       "      <td>21.0</td>\n",
       "    </tr>\n",
       "    <tr>\n",
       "      <th>11</th>\n",
       "      <td>43.574000</td>\n",
       "      <td>1.449590</td>\n",
       "      <td>38.0</td>\n",
       "    </tr>\n",
       "    <tr>\n",
       "      <th>12</th>\n",
       "      <td>43.625300</td>\n",
       "      <td>1.377250</td>\n",
       "      <td>14.0</td>\n",
       "    </tr>\n",
       "    <tr>\n",
       "      <th>13</th>\n",
       "      <td>44.053600</td>\n",
       "      <td>4.697360</td>\n",
       "      <td>10.5</td>\n",
       "    </tr>\n",
       "    <tr>\n",
       "      <th>14</th>\n",
       "      <td>43.834400</td>\n",
       "      <td>4.374220</td>\n",
       "      <td>23.3</td>\n",
       "    </tr>\n",
       "    <tr>\n",
       "      <th>15</th>\n",
       "      <td>43.610000</td>\n",
       "      <td>3.898610</td>\n",
       "      <td>17.3</td>\n",
       "    </tr>\n",
       "    <tr>\n",
       "      <th>16</th>\n",
       "      <td>43.633500</td>\n",
       "      <td>1.375720</td>\n",
       "      <td>10.7</td>\n",
       "    </tr>\n",
       "    <tr>\n",
       "      <th>17</th>\n",
       "      <td>43.561600</td>\n",
       "      <td>1.393260</td>\n",
       "      <td>8.3</td>\n",
       "    </tr>\n",
       "    <tr>\n",
       "      <th>18</th>\n",
       "      <td>43.591500</td>\n",
       "      <td>3.886890</td>\n",
       "      <td>9.8</td>\n",
       "    </tr>\n",
       "    <tr>\n",
       "      <th>19</th>\n",
       "      <td>43.829900</td>\n",
       "      <td>4.361990</td>\n",
       "      <td>28.8</td>\n",
       "    </tr>\n",
       "    <tr>\n",
       "      <th>20</th>\n",
       "      <td>43.096900</td>\n",
       "      <td>-0.038889</td>\n",
       "      <td>14.4</td>\n",
       "    </tr>\n",
       "    <tr>\n",
       "      <th>21</th>\n",
       "      <td>43.556400</td>\n",
       "      <td>1.403920</td>\n",
       "      <td>10.7</td>\n",
       "    </tr>\n",
       "    <tr>\n",
       "      <th>22</th>\n",
       "      <td>43.610600</td>\n",
       "      <td>2.230000</td>\n",
       "      <td>18.1</td>\n",
       "    </tr>\n",
       "    <tr>\n",
       "      <th>23</th>\n",
       "      <td>42.695800</td>\n",
       "      <td>2.899700</td>\n",
       "      <td>3.5</td>\n",
       "    </tr>\n",
       "    <tr>\n",
       "      <th>24</th>\n",
       "      <td>43.803900</td>\n",
       "      <td>1.595830</td>\n",
       "      <td>19.1</td>\n",
       "    </tr>\n",
       "    <tr>\n",
       "      <th>25</th>\n",
       "      <td>43.675800</td>\n",
       "      <td>4.088420</td>\n",
       "      <td>21.4</td>\n",
       "    </tr>\n",
       "    <tr>\n",
       "      <th>26</th>\n",
       "      <td>42.684000</td>\n",
       "      <td>2.903450</td>\n",
       "      <td>6.9</td>\n",
       "    </tr>\n",
       "    <tr>\n",
       "      <th>27</th>\n",
       "      <td>46.798267</td>\n",
       "      <td>1.693130</td>\n",
       "      <td>11.9</td>\n",
       "    </tr>\n",
       "    <tr>\n",
       "      <th>28</th>\n",
       "      <td>47.075044</td>\n",
       "      <td>2.407183</td>\n",
       "      <td>28.5</td>\n",
       "    </tr>\n",
       "    <tr>\n",
       "      <th>29</th>\n",
       "      <td>47.082784</td>\n",
       "      <td>2.405325</td>\n",
       "      <td>11.8</td>\n",
       "    </tr>\n",
       "    <tr>\n",
       "      <th>30</th>\n",
       "      <td>47.394643</td>\n",
       "      <td>0.704873</td>\n",
       "      <td>13.7</td>\n",
       "    </tr>\n",
       "    <tr>\n",
       "      <th>31</th>\n",
       "      <td>47.419079</td>\n",
       "      <td>0.682941</td>\n",
       "      <td>11.7</td>\n",
       "    </tr>\n",
       "    <tr>\n",
       "      <th>32</th>\n",
       "      <td>47.594251</td>\n",
       "      <td>1.302662</td>\n",
       "      <td>11.4</td>\n",
       "    </tr>\n",
       "    <tr>\n",
       "      <th>33</th>\n",
       "      <td>47.837765</td>\n",
       "      <td>1.944658</td>\n",
       "      <td>11.3</td>\n",
       "    </tr>\n",
       "    <tr>\n",
       "      <th>34</th>\n",
       "      <td>47.907074</td>\n",
       "      <td>1.901139</td>\n",
       "      <td>23.6</td>\n",
       "    </tr>\n",
       "    <tr>\n",
       "      <th>35</th>\n",
       "      <td>48.444422</td>\n",
       "      <td>1.510147</td>\n",
       "      <td>10.0</td>\n",
       "    </tr>\n",
       "    <tr>\n",
       "      <th>36</th>\n",
       "      <td>48.729700</td>\n",
       "      <td>1.358463</td>\n",
       "      <td>8.3</td>\n",
       "    </tr>\n",
       "    <tr>\n",
       "      <th>37</th>\n",
       "      <td>48.760890</td>\n",
       "      <td>1.233650</td>\n",
       "      <td>25.5</td>\n",
       "    </tr>\n",
       "  </tbody>\n",
       "</table>\n",
       "</div>"
      ],
      "text/plain": [
       "           X1        X2     Y\n",
       "0   44.012900  1.375310  14.0\n",
       "1   43.623600  1.438610  13.4\n",
       "2   43.587300  1.444030  13.3\n",
       "3   43.230300  0.062222  17.3\n",
       "4   43.575700  1.418070  12.8\n",
       "5   44.357000  2.570700  10.8\n",
       "6   43.928100  2.146110  13.2\n",
       "7   43.465600  1.329470  24.9\n",
       "8   43.643100  1.467650  15.3\n",
       "9   43.630300  0.179722  13.2\n",
       "10  43.610300  1.415180  21.0\n",
       "11  43.574000  1.449590  38.0\n",
       "12  43.625300  1.377250  14.0\n",
       "13  44.053600  4.697360  10.5\n",
       "14  43.834400  4.374220  23.3\n",
       "15  43.610000  3.898610  17.3\n",
       "16  43.633500  1.375720  10.7\n",
       "17  43.561600  1.393260   8.3\n",
       "18  43.591500  3.886890   9.8\n",
       "19  43.829900  4.361990  28.8\n",
       "20  43.096900 -0.038889  14.4\n",
       "21  43.556400  1.403920  10.7\n",
       "22  43.610600  2.230000  18.1\n",
       "23  42.695800  2.899700   3.5\n",
       "24  43.803900  1.595830  19.1\n",
       "25  43.675800  4.088420  21.4\n",
       "26  42.684000  2.903450   6.9\n",
       "27  46.798267  1.693130  11.9\n",
       "28  47.075044  2.407183  28.5\n",
       "29  47.082784  2.405325  11.8\n",
       "30  47.394643  0.704873  13.7\n",
       "31  47.419079  0.682941  11.7\n",
       "32  47.594251  1.302662  11.4\n",
       "33  47.837765  1.944658  11.3\n",
       "34  47.907074  1.901139  23.6\n",
       "35  48.444422  1.510147  10.0\n",
       "36  48.729700  1.358463   8.3\n",
       "37  48.760890  1.233650  25.5"
      ]
     },
     "execution_count": 9,
     "metadata": {},
     "output_type": "execute_result"
    }
   ],
   "source": [
    "df=pd.concat( [pd.DataFrame(X, columns=['X1',\"X2\"]),pd.DataFrame(Y,columns=[\"Y\"])],axis=1)\n",
    "df"
   ]
  },
  {
   "cell_type": "code",
   "execution_count": 10,
   "metadata": {},
   "outputs": [
    {
     "data": {
      "text/plain": [
       "<matplotlib.collections.PathCollection at 0x1d29c8212e0>"
      ]
     },
     "execution_count": 10,
     "metadata": {},
     "output_type": "execute_result"
    },
    {
     "data": {
      "image/png": "[encoded data removed]",
      "text/plain": [
       "<Figure size 432x288 with 1 Axes>"
      ]
     },
     "metadata": {
      "needs_background": "light"
     },
     "output_type": "display_data"
    }
   ],
   "source": [
    "plt.scatter(df['X1'],df['Y'])"
   ]
  },
  {
   "cell_type": "code",
   "execution_count": 11,
   "metadata": {},
   "outputs": [
    {
     "data": {
      "text/plain": [
       "<matplotlib.collections.PathCollection at 0x1d29c90e760>"
      ]
     },
     "execution_count": 11,
     "metadata": {},
     "output_type": "execute_result"
    },
    {
     "data": {
      "image/png": "[encoded data removed]",
      "text/plain": [
       "<Figure size 432x288 with 1 Axes>"
      ]
     },
     "metadata": {
      "needs_background": "light"
     },
     "output_type": "display_data"
    }
   ],
   "source": [
    "plt.scatter(df['X2'],df['Y'])"
   ]
  },
  {
   "cell_type": "code",
   "execution_count": null,
   "metadata": {},
   "outputs": [],
   "source": []
  }
 ],
 "metadata": {
  "kernelspec": {
   "display_name": "Python 3",
   "language": "python",
   "name": "python3"
  },
  "language_info": {
   "codemirror_mode": {
    "name": "ipython",
    "version": 3
   },
   "file_extension": ".py",
   "mimetype": "text/x-python",
   "name": "python",
   "nbconvert_exporter": "python",
   "pygments_lexer": "ipython3",
   "version": "3.8.5"
  }
 },
 "nbformat": 4,
 "nbformat_minor": 4
}
