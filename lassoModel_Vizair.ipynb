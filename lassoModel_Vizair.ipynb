{
 "cells": [
  {
   "cell_type": "markdown",
   "metadata": {},
   "source": [
    "Lasso (least absolute shrinkage and selection operator) is a regression analysis method that performs both variable selection and regularization in order to enhance the prediction accuracy and interpretability of the resulting statistical model. \n",
    "Lasso variants have been created in order to remedy limitations of the original technique and to make the method more useful for particular problems... $"
   ]
  },
  {
   "cell_type": "code",
   "execution_count": 4,
   "metadata": {},
   "outputs": [],
   "source": [
    "import pandas as pd\n",
    "import numpy as np\n",
    "import gmaps as gm\n",
    "import datetime \n",
    "from sklearn import linear_model\n",
    "from matplotlib import pyplot as plt"
   ]
  },
  {
   "cell_type": "code",
   "execution_count": 5,
   "metadata": {},
   "outputs": [],
   "source": [
    "df = pd.read_csv(\"C:/Users/melis/Downloads/res.csv\", sep=\",\") #Leer el archivo\n",
    "df[\"attributes.date_debut\"] = [datetime.datetime.fromtimestamp(i /1000) for i in df[\"attributes.date_debut\"]]\n",
    "df[\"attributes.date_fin\"] = [datetime.datetime.fromtimestamp(i /1000) for i in df[\"attributes.date_fin\"]]"
   ]
  },
  {
   "cell_type": "code",
   "execution_count": 6,
   "metadata": {},
   "outputs": [
    {
     "name": "stdout",
     "output_type": "stream",
     "text": [
      "Year: 2020\n",
      "Month: 12\n",
      "Day: 01\n",
      "Hour: 16\n"
     ]
    }
   ],
   "source": [
    "year = int(input(\"Year: \"))\n",
    "month = int(input(\"Month: \"))\n",
    "day = int(input(\"Day: \"))\n",
    "hour = int(input (\"Hour: \"))\n",
    "date = datetime.datetime(year,month,day,hour)"
   ]
  },
  {
   "cell_type": "code",
   "execution_count": 7,
   "metadata": {},
   "outputs": [],
   "source": [
    "df=df.loc[df['attributes.valeur']>=0] #Only positive values\n",
    "df.reset_index(drop=True, inplace=True) #Reset index after removing the outliers"
   ]
  },
  {
   "cell_type": "code",
   "execution_count": 8,
   "metadata": {},
   "outputs": [],
   "source": [
    "X = df.iloc[df.loc[(df[\"attributes.nom_poll\"] == \"PM10\") & (df[\"attributes.date_debut\"] == date)].index,[9,8]] #Matriz de x,y\n",
    "X = np.array([ [X.iloc[i,0],X.iloc[i,1]] for i in range (len(X))] )\n",
    "weights = df.iloc[df.loc[(df[\"attributes.nom_poll\"] == \"PM10\") & (df[\"attributes.date_debut\"] == date)].index,7]\n",
    "Y = np.array(weights)"
   ]
  },
  {
   "cell_type": "code",
   "execution_count": 19,
   "metadata": {},
   "outputs": [
    {
     "data": {
      "text/plain": [
       "Lasso(alpha=0.1)"
      ]
     },
     "execution_count": 19,
     "metadata": {},
     "output_type": "execute_result"
    }
   ],
   "source": [
    "clf = linear_model.Lasso(alpha=0.1)\n",
    "clf.fit(X,Y)"
   ]
  },
  {
   "cell_type": "code",
   "execution_count": 20,
   "metadata": {},
   "outputs": [
    {
     "data": {
      "text/plain": [
       "0.009659557757697446"
      ]
     },
     "execution_count": 20,
     "metadata": {},
     "output_type": "execute_result"
    }
   ],
   "source": [
    "clf.score(X,Y)"
   ]
  },
  {
   "cell_type": "code",
   "execution_count": null,
   "metadata": {},
   "outputs": [],
   "source": []
  }
 ],
 "metadata": {
  "kernelspec": {
   "display_name": "Python 3",
   "language": "python",
   "name": "python3"
  },
  "language_info": {
   "codemirror_mode": {
    "name": "ipython",
    "version": 3
   },
   "file_extension": ".py",
   "mimetype": "text/x-python",
   "name": "python",
   "nbconvert_exporter": "python",
   "pygments_lexer": "ipython3",
   "version": "3.8.5"
  }
 },
 "nbformat": 4,
 "nbformat_minor": 4
}
